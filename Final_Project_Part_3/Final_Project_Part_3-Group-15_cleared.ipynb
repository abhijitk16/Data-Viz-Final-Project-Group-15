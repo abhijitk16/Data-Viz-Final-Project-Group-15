{
 "cells": [
  {
   "cell_type": "code",
   "execution_count": null,
   "metadata": {
    "id": "yAvcg2Od64rp"
   },
   "outputs": [],
   "source": [
    "import requests\n",
    "import json\n",
    "import pandas as pd\n",
    "import matplotlib as mp\n",
    "import matplotlib.pyplot as plt\n",
    "import plotly.express as px\n",
    "import ast\n",
    "import plotly.graph_objects as go\n",
    "from itertools import cycle\n",
    "import plotly\n",
    "import datetime "
   ]
  },
  {
   "cell_type": "markdown",
   "metadata": {},
   "source": [
    "## Data Gathering"
   ]
  },
  {
   "cell_type": "code",
   "execution_count": null,
   "metadata": {
    "id": "h8nUyQ_O64rs"
   },
   "outputs": [],
   "source": [
    "#Filtering out Seattle crime data for the year 2022\n",
    "url = \"https://data.seattle.gov/resource/tazs-3rd5.json?$where=report_datetime between '2022-01-01T12:00:00' and '2022-12-31T14:00:00' &$limit=150000\""
   ]
  },
  {
   "cell_type": "code",
   "execution_count": null,
   "metadata": {
    "colab": {
     "base_uri": "https://localhost:8080/"
    },
    "id": "FpGVvREE64rs",
    "outputId": "11a3310f-de3a-4f9d-826f-97c6df9cee8c"
   },
   "outputs": [],
   "source": [
    "#JSON Response\n",
    "response = requests.get(url).json()"
   ]
  },
  {
   "cell_type": "code",
   "execution_count": null,
   "metadata": {
    "colab": {
     "base_uri": "https://localhost:8080/",
     "height": 887
    },
    "id": "Awo3tLdo64rt",
    "outputId": "e413b980-4ef1-4a60-a6e0-af35360aa344"
   },
   "outputs": [],
   "source": [
    "#Converting the JSON response to a Dataframe\n",
    "df = pd.DataFrame(response)\n",
    "\n",
    "print(df.shape[0])\n",
    "\n",
    "df.head()"
   ]
  },
  {
   "cell_type": "code",
   "execution_count": null,
   "metadata": {
    "colab": {
     "base_uri": "https://localhost:8080/"
    },
    "id": "6_mg3s3P64ru",
    "outputId": "e2037a85-af8f-4e6c-93a1-e28febd026f7"
   },
   "outputs": [],
   "source": [
    "df.isna().sum()"
   ]
  },
  {
   "cell_type": "code",
   "execution_count": null,
   "metadata": {
    "colab": {
     "base_uri": "https://localhost:8080/"
    },
    "id": "N4XvZrJa64ru",
    "outputId": "d1b91048-af4c-4fdc-a7ee-b2f3e53a612d"
   },
   "outputs": [],
   "source": [
    "df.dtypes"
   ]
  },
  {
   "cell_type": "markdown",
   "metadata": {
    "id": "fncxyMaq64rv"
   },
   "source": [
    "## Data Cleaning"
   ]
  },
  {
   "cell_type": "code",
   "execution_count": null,
   "metadata": {
    "colab": {
     "base_uri": "https://localhost:8080/"
    },
    "id": "ZbZcNMm164rx",
    "outputId": "10264b9b-5d12-4fd6-92db-6a28f7a9b0ba"
   },
   "outputs": [],
   "source": [
    "#All the columns are of type object. In order to plot the location, the lat and lon need to be converted to float type. \n",
    "\n",
    "df['longitude'] = df['longitude'].astype('str').astype('float')\n",
    "df['latitude'] = df['latitude'].astype('str').astype('float')\n",
    "\n",
    "df.dtypes"
   ]
  },
  {
   "cell_type": "markdown",
   "metadata": {},
   "source": [
    "## Displaying the number of crimes committed against a category."
   ]
  },
  {
   "cell_type": "code",
   "execution_count": null,
   "metadata": {
    "colab": {
     "base_uri": "https://localhost:8080/",
     "height": 175
    },
    "id": "6X6IcZ1W64rz",
    "outputId": "e92dc8f6-ade8-45b2-fe0b-231aa9b56859"
   },
   "outputs": [],
   "source": [
    "#Grouping by unique category. \n",
    "df1 = df.groupby(['crime_against_category']).agg({'crime_against_category': 'count'})\n",
    "df_renamed = df1.rename(columns={'crime_against_category':'Count'})\n",
    "df_cat = df_renamed.reset_index()\n",
    "\n",
    "df_r = df_cat.rename(columns = {'crime_against_category': 'Crime Category Against'})\n",
    "df_r"
   ]
  },
  {
   "cell_type": "code",
   "execution_count": null,
   "metadata": {
    "colab": {
     "base_uri": "https://localhost:8080/",
     "height": 517
    },
    "id": "MCI65NMc64r0",
    "outputId": "c9eece71-03ef-4a21-e413-79bcb6e4fe82",
    "scrolled": false
   },
   "outputs": [],
   "source": [
    "fig = px.bar(df_r, x='Crime Category Against', y='Count', hover_data=[\"Count\"], color = 'Crime Category Against', width = 800, height = 500)\n",
    "fig.update_layout(\n",
    "    title={\n",
    "        'text': 'Crime counts against various categories',\n",
    "        'y':0.93,\n",
    "        'x':0.46,\n",
    "        'xanchor': 'center',\n",
    "        'yanchor': 'top'})\n",
    "\n",
    "fig.show('notebook')"
   ]
  },
  {
   "cell_type": "markdown",
   "metadata": {},
   "source": [
    "The bar graph above displays the crimes committed against a category. The reason a bar graph is chosen is to categorize the data properly and increase the readability. Although this graph is interactive and can be scaled in to see the category \"NOT_A_CRIME\", since the data for this category is so less compared to the other categories, it becomes almost impossible to identify it through naked eye, which is a small flaw in this.  "
   ]
  },
  {
   "cell_type": "markdown",
   "metadata": {},
   "source": [
    "## Locating all the areas reporting robbery"
   ]
  },
  {
   "cell_type": "code",
   "execution_count": null,
   "metadata": {
    "colab": {
     "base_uri": "https://localhost:8080/",
     "height": 1000
    },
    "id": "_yQ58jBk64r2",
    "outputId": "a7bbcb7b-5824-4232-b5bc-b838fc027038"
   },
   "outputs": [],
   "source": [
    "df_rob = df[df['offense_parent_group'] == 'ROBBERY']\n",
    "df_rob\n",
    "\n",
    "df_r1 = df_rob.groupby(['mcpp']).agg({'mcpp': 'count'})\n",
    "df_r2 = df_r1.rename(columns={'mcpp':'Count'})\n",
    "df_r_final = df_r2.reset_index()\n",
    "\n",
    "df_r_final"
   ]
  },
  {
   "cell_type": "code",
   "execution_count": null,
   "metadata": {
    "colab": {
     "base_uri": "https://localhost:8080/",
     "height": 542
    },
    "id": "7wXS_fLm64r3",
    "outputId": "d633eb77-576b-461c-fdb0-c4841f81cd03"
   },
   "outputs": [],
   "source": [
    "fig = px.scatter_geo(df_rob, 'latitude', 'longitude', color = 'mcpp', scope = 'north america', locationmode = 'ISO-3', title = 'Robberies in Seattle - 2022')\n",
    "fig.update_geos(\n",
    "    \n",
    "    lataxis_range=[47.49013,47.754145], lonaxis_range=[-122.45167,-122.2244331], lataxis_showgrid = True, lonaxis_showgrid = True, visible=False, resolution=50, scope=\"north america\",\n",
    "    showcountries=True, countrycolor=\"Black\",\n",
    "    showsubunits=True, subunitcolor=\"Blue\",\n",
    ")\n",
    "\n",
    "fig.show('notebook')"
   ]
  },
  {
   "cell_type": "markdown",
   "metadata": {},
   "source": [
    "This visualization drills down on just the offense group of Robbery in Seattle. This is an improvement of the previous visualization as the areas are grouped using the same color and it displays some information such as the area where the robbery took place and its exact coordinates. This is plotted on the scope of North-America. Initially it was plotted using the USA scope but the same coordinates did not work on the scope and it seemed difficult to adjust the coordinates on that ensuring the visiblity of Seattle when the code is run. "
   ]
  },
  {
   "cell_type": "markdown",
   "metadata": {},
   "source": [
    "## Displaying the most common crimes using a dropdown"
   ]
  },
  {
   "cell_type": "code",
   "execution_count": null,
   "metadata": {
    "colab": {
     "base_uri": "https://localhost:8080/",
     "height": 1000
    },
    "id": "-hPVP4hIBYaG",
    "outputId": "b3707803-d5d1-4c28-d450-c68f3d682a84"
   },
   "outputs": [],
   "source": [
    "#Filtering data based on offense group\n",
    "\n",
    "df_larc = df[df['offense_parent_group'] == 'LARCENY-THEFT']\n",
    "df_larc\n",
    "\n",
    "df_assault = df[df['offense_parent_group'] == 'ASSAULT OFFENSES']\n",
    "df_assault\n",
    "\n",
    "df_burg = df[df['offense_parent_group'] == 'BURGLARY/BREAKING&ENTERING']\n",
    "df_burg\n",
    "\n",
    "df_vand = df[df['offense_parent_group'] == 'DESTRUCTION/DAMAGE/VANDALISM OF PROPERTY']\n",
    "df_vand\n",
    "\n",
    "df_mvt = df[df['offense_parent_group'] == 'MOTOR VEHICLE THEFT']\n",
    "df_mvt\n",
    "\n",
    "df_fraud = df[df['offense_parent_group'] == 'FRAUD OFFENSES']\n",
    "df_fraud\n",
    "\n",
    "df_tresp = df[df['offense_parent_group'] == 'TRESPASS OF REAL PROPERTY']\n",
    "df_tresp\n",
    "\n",
    "df_dui = df[df['offense_parent_group'] == 'DRIVING UNDER THE INFLUENCE']\n",
    "df_dui\n",
    "\n",
    "df_wep = df[df['offense_parent_group'] == 'WEAPON LAW VIOLATIONS']\n",
    "df_wep\n",
    "\n",
    "\n",
    "df_off = df.groupby(['offense_parent_group']).agg({'offense_parent_group': 'count'})\n",
    "df_r2 = df_off.rename(columns={'offense_parent_group':'Count'})\n",
    "df_r2 = df_r2.reset_index()\n",
    "\n",
    "df_sort = df_r2.sort_values('Count', ascending = False)\n",
    "df_sort"
   ]
  },
  {
   "cell_type": "code",
   "execution_count": null,
   "metadata": {},
   "outputs": [],
   "source": [
    "len(df['mcpp'].unique())\n"
   ]
  },
  {
   "cell_type": "code",
   "execution_count": null,
   "metadata": {},
   "outputs": [],
   "source": [
    "#Using a dictionary to map all colors and the areas.\n",
    "\n",
    "from random import randint\n",
    "colors = []\n",
    "area = []\n",
    "d = {}\n",
    "for i in range(61):\n",
    "    colors.append('#%06X' % randint(0, 0xFFFFFF))\n",
    "    \n",
    "for i in range(61):\n",
    "    area.append(df['mcpp'].unique()[i])\n",
    "\n",
    "\n",
    "for i in range(61):\n",
    "    \n",
    "    d[area[i]] = colors[i]\n"
   ]
  },
  {
   "cell_type": "code",
   "execution_count": null,
   "metadata": {
    "colab": {
     "base_uri": "https://localhost:8080/",
     "height": 542
    },
    "id": "-gNvtPqCRg0j",
    "outputId": "11ebbbfb-6422-49ae-cf07-a72e1fcd8898"
   },
   "outputs": [],
   "source": [
    "#Adding trace for each crime category.\n",
    "fig = go.Figure()\n",
    "\n",
    "for s in df_rob.mcpp.unique():\n",
    "    df_r_1 = df_rob[df_rob.mcpp == s]\n",
    "    fig.add_trace(go.Scattergeo(lat = df_r_1['latitude'], lon = df_r_1['longitude'], marker_color = d[s], marker_size = 3, customdata = df_r_1, name = s, hovertemplate=\"<b>Area: %{customdata[13]} </b><br><br>Longitude: %{customdata[15]: .3f} </b><br><br>Latitude: %{customdata[16]: .3f}<extra></extra>\" ))\n",
    "\n",
    "for s in df_larc.mcpp.unique():\n",
    "    df_larc_1 = df_larc[df_larc.mcpp == s]\n",
    "    fig.add_trace(go.Scattergeo(lat = df_larc_1['latitude'], lon = df_larc_1['longitude'], marker_color = d[s], marker_size = 3, customdata = df_larc_1, name = s, hovertemplate=\"<b>Area: %{customdata[13]} </b><br><br>Longitude: %{customdata[15]: .3f} </b><br><br>Latitude: %{customdata[16]: .3f}<extra></extra>\" ))\n",
    "\n",
    "for s in df_assault.mcpp.unique():\n",
    "    df_as_1 = df_assault[df_assault.mcpp == s]\n",
    "    fig.add_trace(go.Scattergeo(lat = df_as_1['latitude'], lon = df_as_1['longitude'], marker_color = d[s], marker_size = 3, customdata = df_as_1, name = s, hovertemplate=\"<b>Area: %{customdata[13]} </b><br><br>Longitude: %{customdata[15]: .3f} </b><br><br>Latitude: %{customdata[16]: .3f}<extra></extra>\" ))\n",
    "\n",
    "for s in df_burg.mcpp.unique():\n",
    "    df_burg_1 = df_burg[df_burg.mcpp == s]\n",
    "    fig.add_trace(go.Scattergeo(lat = df_burg_1['latitude'], lon = df_burg_1['longitude'], marker_color = d[s], marker_size = 3, customdata = df_burg_1, name = s, hovertemplate=\"<b>Area: %{customdata[13]} </b><br><br>Longitude: %{customdata[15]: .3f} </b><br><br>Latitude: %{customdata[16]: .3f}<extra></extra>\" ))\n",
    "\n",
    "for s in df_vand.mcpp.unique():\n",
    "    df_vand_1 = df_vand[df_vand.mcpp == s]\n",
    "    fig.add_trace(go.Scattergeo(lat = df_vand_1['latitude'], lon = df_vand_1['longitude'], marker_color = d[s], marker_size = 3, customdata = df_vand_1, name = s, hovertemplate=\"<b>Area: %{customdata[13]} </b><br><br>Longitude: %{customdata[15]: .3f} </b><br><br>Latitude: %{customdata[16]: .3f}<extra></extra>\" ))\n",
    "\n",
    "for s in df_mvt.mcpp.unique():\n",
    "    df_mvt_1 = df_mvt[df_mvt.mcpp == s]\n",
    "    fig.add_trace(go.Scattergeo(lat = df_mvt_1['latitude'], lon = df_mvt_1['longitude'], marker_color = d[s], marker_size = 3, customdata = df_mvt_1, name = s, hovertemplate=\"<b>Area: %{customdata[13]} </b><br><br>Longitude: %{customdata[15]: .3f} </b><br><br>Latitude: %{customdata[16]: .3f}<extra></extra>\" ))\n",
    "\n",
    "for s in df_fraud.mcpp.unique():\n",
    "    df_f_1 = df_fraud[df_fraud.mcpp == s]\n",
    "    fig.add_trace(go.Scattergeo(lat = df_f_1['latitude'], lon = df_f_1['longitude'], marker_color = d[s], customdata = df_f_1, marker_size = 3, name = s, hovertemplate=\"<b>Area: %{customdata[13]} </b><br><br>Longitude: %{customdata[15]: .3f} </b><br><br>Latitude: %{customdata[16]: .3f}<extra></extra>\" ))\n",
    "\n",
    "for s in df_tresp.mcpp.unique():\n",
    "    df_t_1 = df_tresp[df_tresp.mcpp == s]\n",
    "    fig.add_trace(go.Scattergeo(lat = df_t_1['latitude'], lon = df_t_1['longitude'], marker_color = d[s], customdata = df_t_1, marker_size = 3, name = s, hovertemplate=\"<b>Area: %{customdata[13]} </b><br><br>Longitude: %{customdata[15]: .3f} </b><br><br>Latitude: %{customdata[16]: .3f}<extra></extra>\" ))\n",
    "\n",
    "for s in df_dui.mcpp.unique():\n",
    "    df_d_1 = df_dui[df_dui.mcpp == s]\n",
    "    fig.add_trace(go.Scattergeo(lat = df_d_1['latitude'], lon = df_d_1['longitude'], marker_color = d[s], customdata = df_d_1, marker_size = 3, name = s, hovertemplate=\"<b>Area: %{customdata[13]} </b><br><br>Longitude: %{customdata[15]: .3f} </b><br><br>Latitude: %{customdata[16]: .3f}<extra></extra>\" ))\n",
    "\n",
    "for s in df_wep.mcpp.unique():\n",
    "    df_wlv = df_wep[df_wep.mcpp == s]\n",
    "    fig.add_trace(go.Scattergeo(lat = df_wlv['latitude'], lon = df_wlv['longitude'], marker_color = d[s], customdata = df_wlv, marker_size = 3, name = s, hovertemplate=\"<b>Area: %{customdata[13]} </b><br><br>Longitude: %{customdata[15]: .3f} </b><br><br>Latitude: %{customdata[16]: .3f}<extra></extra>\" ))\n",
    "\n",
    "    \n",
    "fig.update_geos(\n",
    "    \n",
    "    lataxis_range=[47.49013,47.754145], lonaxis_range=[-122.45167,-122.2244331], lataxis_showgrid = True, lonaxis_showgrid = True, visible=False, resolution=50, scope=\"north america\",\n",
    "    showcountries=True, countrycolor=\"Black\",\n",
    "    showsubunits=\n",
    "    True, subunitcolor=\"Blue\",\n",
    ")\n",
    "\n",
    "#Add dropdown\n",
    "fig.layout.update(\n",
    "   updatemenus = [\n",
    "       dict(\n",
    "         buttons = list(\n",
    "            [\n",
    "               dict(\n",
    "                  label = \"Robbery\", method = \"update\",\n",
    "                  args = [{\"visible\": [True, False, False, False, False, False ,False, False, False, False]},{\"title\": \"Offense: Robbery | Year: 2022\"} ]\n",
    "               ),\n",
    "               dict(\n",
    "                  label = \"Larceny\", method = \"update\", \n",
    "                  args = [{\"visible\": [False, True, False, False, False, False ,False, False, False, False]},{\"title\": \"Offense: Larceny | Year: 2022\"}]\n",
    "               ),\n",
    "               dict(\n",
    "                  label = \"Assault\", method = \"update\",\n",
    "                  args = [{\"visible\": [False, False, True, False, False, False ,False, False,False, False ]},{\"title\": \"Offense: Assault | Year: 2022\"} ]\n",
    "               ),\n",
    "               dict(\n",
    "                  label = \"Burglary\", method = \"update\", \n",
    "                  args = [{\"visible\": [False, False, False, True, False, False ,False, False, False, False]},{\"title\": \"Offense: Burglary | Year: 2022\"}]\n",
    "               ),\n",
    "               dict(\n",
    "                  label = \"Vandalism\", method = \"update\",\n",
    "                  args = [{\"visible\": [False, False, False, False, True, False ,False, False, False, False]},{\"title\": \"Offense: Vandalism | Year: 2022\"} ]\n",
    "               ),\n",
    "               dict(\n",
    "                  label = \"MVT\", method = \"update\", \n",
    "                  args = [{\"visible\": [False, False, False, False, False, True ,False, False,False, False]},{\"title\": \"Offense: MVT | Year: 2022\"}]\n",
    "               ),\n",
    "                dict(\n",
    "                   label = \"Fraud\", method = \"update\",\n",
    "                   args = [{\"visible\": [False, False, False, False, False, False, True, False, False, False]},{\"title\": \"Offense: Fraud | Year: 2022\"} ]\n",
    "                ),\n",
    "                dict(\n",
    "                   label = \"Trespassing\", method = \"update\", \n",
    "                   args = [{\"visible\": [False, False, False, False, False, False, False, True, False, False]},{\"title\": \"Offense: Trespassing | Year: 2022\"}]\n",
    "               ),\n",
    "                dict(\n",
    "                   label = \"DUI\", method = \"update\",\n",
    "                   args = [{\"visible\": [False, False, False, False, False, False, False, False, True, False]},{\"title\": \"Offense: DUI | Year: 2022\"} ]\n",
    "                ),\n",
    "                dict(\n",
    "                   label = \"WLV\", method = \"update\", \n",
    "                   args = [{\"visible\": [False, False, False, False, False, False, False, False, False, True]},{\"title\": \"Offense: Weapon Law Violation | Year: 2022\"}]\n",
    "               )\n",
    "            ]\n",
    "         ),\n",
    "           direction=\"down\",\n",
    "            pad={\"r\": 10, \"t\": 10},\n",
    "            showactive=True,\n",
    "            x=0.1,\n",
    "            xanchor=\"left\",\n",
    "            y=1.1,\n",
    "            yanchor=\"top\" )\n",
    "      ] )\n",
    "\n",
    "fig.add_scattergeo(\n",
    "    locations=[\"ID\",\"OR\",\"WA\"],    ###codes for states,\n",
    "    locationmode='USA-states',\n",
    "    text=[\"Idaho\",\"Oregon\",\"Washington\"],\n",
    "    mode='text')\n",
    "\n",
    "fig.show('notebook')\n"
   ]
  },
  {
   "cell_type": "markdown",
   "metadata": {},
   "source": [
    "To improve the earlier visualization and to include all the other offenses within the same map, a dropdown feature is included which shows the coordinates and the areas. In the previous part there were two flaws: 1. The areas were grouped by one color, but the colors were repetitive and a few of the areas were represented by two or more different colors. 2. There was no label of the states. We have added label for Washington and the neighbouring states. \n"
   ]
  },
  {
   "cell_type": "markdown",
   "metadata": {},
   "source": [
    "## Displaying crime percentages according to time of day"
   ]
  },
  {
   "cell_type": "code",
   "execution_count": null,
   "metadata": {
    "colab": {
     "base_uri": "https://localhost:8080/",
     "height": 857
    },
    "id": "GiR-73He64r4",
    "outputId": "5defecec-59bc-4efc-e4cf-611dcf558463"
   },
   "outputs": [],
   "source": [
    "df['report_datetime'] = pd.to_datetime(df['report_datetime'])\n",
    "df['hour'] = df['report_datetime'].dt.strftime('%H').astype(int)\n",
    "\n",
    "def timeofday(x):\n",
    "  if x > 2 and x <= 6:\n",
    "    return 'Early Morning'\n",
    "  elif x > 6 and x <= 10:\n",
    "    return 'Morning'\n",
    "  elif x > 10 and x <= 16:\n",
    "    return 'Afternoon'\n",
    "  elif x > 16 and x <= 20:\n",
    "    return 'Evening'\n",
    "  elif x > 20 and x <=2:\n",
    "    'Night'\n",
    "\n",
    "df['time_of_day'] = df['hour'].apply(timeofday)\n",
    "df"
   ]
  },
  {
   "cell_type": "code",
   "execution_count": null,
   "metadata": {
    "colab": {
     "base_uri": "https://localhost:8080/",
     "height": 237
    },
    "id": "-Q8xCRlhZGri",
    "outputId": "ee3e6051-0732-452a-985e-6d7993babd39"
   },
   "outputs": [],
   "source": [
    "time_of_day = pd.DataFrame(df.groupby(['time_of_day']).count().sort_values(by=['report_number'], ascending = True).reset_index())\n",
    "time_of_day"
   ]
  },
  {
   "cell_type": "code",
   "execution_count": null,
   "metadata": {
    "colab": {
     "base_uri": "https://localhost:8080/",
     "height": 517
    },
    "id": "QL-a2Z71bJYF",
    "outputId": "fdc6e1f8-8f65-4ee3-c0c5-bb5b2c416185"
   },
   "outputs": [],
   "source": [
    "fig = px.pie(time_of_day, values='report_number', names='time_of_day', title='Crime according to time of day', color_discrete_sequence=px.colors.sequential.RdBu, width = 800, height = 500)\n",
    "fig.show('notebook')"
   ]
  },
  {
   "cell_type": "markdown",
   "metadata": {},
   "source": [
    "The pie chart shows the number of crimes in percentages according to the time of the day. When you hover over the chart, you can see the time of the day and the number of reports for that particular group hovered."
   ]
  },
  {
   "cell_type": "markdown",
   "metadata": {},
   "source": [
    "## Tree Map based on the Parent Offense Group and Offence"
   ]
  },
  {
   "cell_type": "code",
   "execution_count": null,
   "metadata": {
    "colab": {
     "base_uri": "https://localhost:8080/",
     "height": 542
    },
    "id": "V1ZRiwHQdZWN",
    "outputId": "c8814473-2601-4d9f-dc54-434952fca04b"
   },
   "outputs": [],
   "source": [
    "#Created a Tree Map based on the Parent Offense Group and Offence. It tells the the total cout when we hover over it. \n",
    "\n",
    "df1 = df.groupby(['offense_parent_group','offense']).count().reset_index()\n",
    "df1.rename(columns = {'offense_id':'count'}, inplace = True)\n",
    "df1\n",
    "\n",
    "\n",
    "fig = px.treemap(df1, path=[px.Constant(\"All crimes\"), 'offense_parent_group','offense'], values='count')\n",
    "fig.update_traces(root_color=\"lightgrey\")\n",
    "fig.update_layout(margin = dict(t=50, l=25, r=25, b=25))\n",
    "fig.show('notebook')"
   ]
  },
  {
   "cell_type": "markdown",
   "metadata": {},
   "source": [
    "Using the plotly library, we created a tree map that represents all the crimes grouped by the offence parent group and offence. We used the crime ID as total count of that particular offence. All the crimes are fist grouped by the parent group and in each parent groups, the offences are mentioned."
   ]
  },
  {
   "cell_type": "code",
   "execution_count": null,
   "metadata": {},
   "outputs": [],
   "source": [
    "df['report_datetime'] = pd.to_datetime(df['report_datetime'])\n",
    "df['report_date'] = df['report_datetime'].dt.strftime('%Y-%m-%d').astype(str)\n",
    "df.head()"
   ]
  },
  {
   "cell_type": "markdown",
   "metadata": {},
   "source": [
    "## Displaying the area-wise count of occurrence of major offense types"
   ]
  },
  {
   "cell_type": "code",
   "execution_count": null,
   "metadata": {
    "colab": {
     "base_uri": "https://localhost:8080/",
     "height": 1000
    },
    "id": "HDl-n2p2kR1M",
    "outputId": "56ce03d1-d852-4336-d324-2aafb69f90ad"
   },
   "outputs": [],
   "source": [
    "fig = px.histogram(data_frame = df, color = 'offense_parent_group', x='mcpp', animation_frame='report_date', title = 'Area-wise count of occurrence of major offense',\n",
    "             barmode='overlay', marginal='box', height = 1000, width=1000, range_x=[0,61])\n",
    "fig.update_xaxes(tickangle=30, tickfont_size = 8)\n",
    "fig.update_layout(xaxis_title=\"Area\", xaxis_title_standoff = 10)\n",
    "fig.show('notebook')"
   ]
  },
  {
   "cell_type": "markdown",
   "metadata": {},
   "source": [
    "The visualization depicts the area-wise count of occurrence of major offense types. The date slider at the bottom allows the user to select a particular date on which they would want to see the records for. For a better understanding of the distribution of crimes in the histogram plot, there’s a boxplot on the top that summarizes the distribution of offenses with quartile and median values as the areas. Both the visuals are made interactive in a way that the user can hover over the area to view details."
   ]
  },
  {
   "cell_type": "markdown",
   "metadata": {},
   "source": [
    "## Summarising the data from 2008"
   ]
  },
  {
   "cell_type": "code",
   "execution_count": null,
   "metadata": {
    "id": "mPThSdir5H-M"
   },
   "outputs": [],
   "source": [
    "url2 = \"https://data.seattle.gov/resource/tazs-3rd5.json?$limit=2000000\""
   ]
  },
  {
   "cell_type": "code",
   "execution_count": null,
   "metadata": {
    "colab": {
     "base_uri": "https://localhost:8080/"
    },
    "id": "T8WkS2JSH4r-",
    "outputId": "b43aabf3-c7e9-47a4-a796-40a74dac8567"
   },
   "outputs": [],
   "source": [
    "response2 = requests.get(url2).json()"
   ]
  },
  {
   "cell_type": "code",
   "execution_count": null,
   "metadata": {
    "colab": {
     "base_uri": "https://localhost:8080/",
     "height": 696
    },
    "id": "bTh0fp8afou5",
    "outputId": "4cb64177-e86c-451c-fd4a-9d902f587f98"
   },
   "outputs": [],
   "source": [
    "\n",
    "df2 = pd.DataFrame(response2)\n",
    "\n",
    "print(df2.shape[0])\n",
    "\n",
    "df2"
   ]
  },
  {
   "cell_type": "code",
   "execution_count": null,
   "metadata": {
    "colab": {
     "base_uri": "https://localhost:8080/"
    },
    "id": "KDdbJm9GhQ-T",
    "outputId": "878a32d3-c675-49f5-ec1b-00d12abb1c26"
   },
   "outputs": [],
   "source": [
    "df2[\"report_datetime\"] = pd.to_datetime(df2[\"report_datetime\"])\n",
    "df2['year'] = df2['report_datetime'].dt.strftime('%Y')\n",
    "print(df2.year)"
   ]
  },
  {
   "cell_type": "code",
   "execution_count": null,
   "metadata": {},
   "outputs": [],
   "source": [
    "#Sorting the values based on year as when plotting a histogram, this would ensure the dates start from 2008 and not randomly.\n",
    "df3 = df2.sort_values(by='year', ascending = True)\n",
    "df3"
   ]
  },
  {
   "cell_type": "code",
   "execution_count": null,
   "metadata": {
    "colab": {
     "background_save": true,
     "base_uri": "https://localhost:8080/"
    },
    "id": "Pcwjf8NluEgI",
    "outputId": "9d5f8ab9-7a9e-4d26-9061-2879ceed9215"
   },
   "outputs": [],
   "source": [
    "#The color mccp divides the histogram such that we get the area wise count.\n",
    "fig = px.histogram(df3, x='year', color = 'mcpp', title = 'Number of Crimes from 2008 to 2022')\n",
    "fig.show('notebook')"
   ]
  },
  {
   "cell_type": "markdown",
   "metadata": {},
   "source": [
    "The histogram shows the count of crimes in each area every year from 2008 to 2022 in ascending order. When you hover over, you are able to see the area, separated by color, year, and the number of crimes that have taken place."
   ]
  },
  {
   "cell_type": "markdown",
   "metadata": {},
   "source": [
    "**References:** \n",
    "- https://plotly.com/python/map-configuration/\n",
    "- https://www.tutorialspoint.com/plotly/plotly_adding_buttons_dropdown.htm\n",
    "- https://stackoverflow.com/questions/69235532/add-dropdown-button-to-plotly-express-choropleth-map\n",
    "- https://stackoverflow.com/questions/62115372/python-function-for-customdata-hover-in-plotly-lib\n",
    "- https://plotly.com/python/colorscales/"
   ]
  },
  {
   "cell_type": "code",
   "execution_count": null,
   "metadata": {},
   "outputs": [],
   "source": []
  }
 ],
 "metadata": {
  "colab": {
   "provenance": []
  },
  "kernelspec": {
   "display_name": "Python 3 (ipykernel)",
   "language": "python",
   "name": "python3"
  },
  "language_info": {
   "codemirror_mode": {
    "name": "ipython",
    "version": 3
   },
   "file_extension": ".py",
   "mimetype": "text/x-python",
   "name": "python",
   "nbconvert_exporter": "python",
   "pygments_lexer": "ipython3",
   "version": "3.9.12"
  }
 },
 "nbformat": 4,
 "nbformat_minor": 1
}
