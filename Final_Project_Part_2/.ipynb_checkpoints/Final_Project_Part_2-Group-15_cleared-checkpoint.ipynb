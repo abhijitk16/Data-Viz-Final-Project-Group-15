{
 "cells": [
  {
   "cell_type": "code",
   "execution_count": null,
   "metadata": {
    "colab": {
     "base_uri": "https://localhost:8080/",
     "height": 41
    },
    "id": "nKnq3brb64rj",
    "outputId": "4c90df2d-d376-499d-ac82-077f06121a59"
   },
   "outputs": [],
   "source": [
    "from IPython.core.display import display, HTML\n",
    "HTML('''<script> </script> <form action=\"javascript:IPython.notebook.execute_cells_below()\"><input type=\"submit\" id=\"toggleButton\" value=\"Run all\"></form>''')\n"
   ]
  },
  {
   "cell_type": "code",
   "execution_count": null,
   "metadata": {},
   "outputs": [],
   "source": [
    "#Necessary to run on binder\n",
    "!pip install pandas\n",
    "!pip install matplotlib\n",
    "!pip install plotly"
   ]
  },
  {
   "cell_type": "code",
   "execution_count": null,
   "metadata": {
    "id": "yAvcg2Od64rp"
   },
   "outputs": [],
   "source": [
    "import requests\n",
    "import json\n",
    "import pandas as pd\n",
    "import matplotlib as mp\n",
    "import matplotlib.pyplot as plt\n",
    "import plotly.express as px\n",
    "import ast\n",
    "import plotly.graph_objects as go\n",
    "from itertools import cycle\n",
    "import plotly\n",
    "import datetime \n",
    "from IPython.display import HTML"
   ]
  },
  {
   "cell_type": "code",
   "execution_count": null,
   "metadata": {
    "id": "0ST_67LS64rq"
   },
   "outputs": [],
   "source": [
    "!conda install cartopy --yes"
   ]
  },
  {
   "cell_type": "code",
   "execution_count": null,
   "metadata": {
    "colab": {
     "base_uri": "https://localhost:8080/"
    },
    "id": "ZnoAh4Pa7SI1",
    "outputId": "ff236aaf-41f0-4430-eff8-13a022521e4a"
   },
   "outputs": [],
   "source": [
    "#!pip install cartopy"
   ]
  },
  {
   "cell_type": "code",
   "execution_count": null,
   "metadata": {
    "colab": {
     "base_uri": "https://localhost:8080/"
    },
    "id": "jvKt5jL4_8p4",
    "outputId": "e0e582e8-93a0-4305-c4e5-f66e381b65bd"
   },
   "outputs": [],
   "source": [
    "# !pip uninstall shapely -y\n",
    "\n",
    "# !pip install shapely --no-binary shapely"
   ]
  },
  {
   "cell_type": "code",
   "execution_count": null,
   "metadata": {
    "id": "Qmbgokes64rr"
   },
   "outputs": [],
   "source": [
    "import cartopy.crs as ccrs"
   ]
  },
  {
   "cell_type": "code",
   "execution_count": null,
   "metadata": {
    "id": "h8nUyQ_O64rs"
   },
   "outputs": [],
   "source": [
    "#Filtering out Seattle crime data for the year 2022\n",
    "url = \"https://data.seattle.gov/resource/tazs-3rd5.json?$where=report_datetime between '2022-01-01T12:00:00' and '2022-12-31T14:00:00' &$limit=100000\""
   ]
  },
  {
   "cell_type": "code",
   "execution_count": null,
   "metadata": {
    "colab": {
     "base_uri": "https://localhost:8080/"
    },
    "id": "FpGVvREE64rs",
    "outputId": "11a3310f-de3a-4f9d-826f-97c6df9cee8c"
   },
   "outputs": [],
   "source": [
    "#JSON Response\n",
    "response = requests.get(url).json()\n",
    "response"
   ]
  },
  {
   "cell_type": "code",
   "execution_count": null,
   "metadata": {
    "colab": {
     "base_uri": "https://localhost:8080/",
     "height": 887
    },
    "id": "Awo3tLdo64rt",
    "outputId": "e413b980-4ef1-4a60-a6e0-af35360aa344"
   },
   "outputs": [],
   "source": [
    "#Converting the JSON response to a Dataframe\n",
    "df = pd.DataFrame(response)\n",
    "\n",
    "print(df.shape[0])\n",
    "\n",
    "df.head()"
   ]
  },
  {
   "cell_type": "code",
   "execution_count": null,
   "metadata": {
    "colab": {
     "base_uri": "https://localhost:8080/"
    },
    "id": "6_mg3s3P64ru",
    "outputId": "e2037a85-af8f-4e6c-93a1-e28febd026f7"
   },
   "outputs": [],
   "source": [
    "df.isna().sum()"
   ]
  },
  {
   "cell_type": "code",
   "execution_count": null,
   "metadata": {
    "colab": {
     "base_uri": "https://localhost:8080/"
    },
    "id": "N4XvZrJa64ru",
    "outputId": "d1b91048-af4c-4fdc-a7ee-b2f3e53a612d"
   },
   "outputs": [],
   "source": [
    "df.dtypes"
   ]
  },
  {
   "cell_type": "markdown",
   "metadata": {
    "id": "fncxyMaq64rv"
   },
   "source": [
    "## Data Cleaning"
   ]
  },
  {
   "cell_type": "code",
   "execution_count": null,
   "metadata": {
    "colab": {
     "base_uri": "https://localhost:8080/"
    },
    "id": "ZbZcNMm164rx",
    "outputId": "10264b9b-5d12-4fd6-92db-6a28f7a9b0ba"
   },
   "outputs": [],
   "source": [
    "#df['report_number'] = df['report_number'].astype('|S')\n",
    "#df['report_number'] = df['report_number'].apply(ast.literal_eval).str.decode(\"utf8\").fillna(df['report_number'])\n",
    "\n",
    "#All the columns are of type object. In order to plot the location, the lat and lon need to be converted to float type. \n",
    "\n",
    "df['longitude'] = df['longitude'].astype('str').astype('float')\n",
    "df['latitude'] = df['latitude'].astype('str').astype('float')\n",
    "\n",
    "# df['report_number'].astype(str)\n",
    "# df['offense_id'].astype(str)\n",
    "# df['offense_start_datetime'].astype(str)\n",
    "# df['offense_end_datetime'].astype(str)\n",
    "df.dtypes"
   ]
  },
  {
   "cell_type": "markdown",
   "metadata": {},
   "source": [
    "### Displaying the number of crimes committed against a category."
   ]
  },
  {
   "cell_type": "code",
   "execution_count": null,
   "metadata": {
    "colab": {
     "base_uri": "https://localhost:8080/",
     "height": 175
    },
    "id": "6X6IcZ1W64rz",
    "outputId": "e92dc8f6-ade8-45b2-fe0b-231aa9b56859"
   },
   "outputs": [],
   "source": [
    "#Grouping by unique category. \n",
    "df1 = df.groupby(['crime_against_category']).agg({'crime_against_category': 'count'})\n",
    "df_renamed = df1.rename(columns={'crime_against_category':'Count'})\n",
    "df_cat = df_renamed.reset_index()\n",
    "\n",
    "df_r = df_cat.rename(columns = {'crime_against_category': 'Crime Category Against'})\n",
    "df_r"
   ]
  },
  {
   "cell_type": "code",
   "execution_count": null,
   "metadata": {
    "colab": {
     "base_uri": "https://localhost:8080/",
     "height": 517
    },
    "id": "MCI65NMc64r0",
    "outputId": "c9eece71-03ef-4a21-e413-79bcb6e4fe82",
    "scrolled": false
   },
   "outputs": [],
   "source": [
    "# fig, ax = plt.subplots(figsize = (10,10))\n",
    "# ax = plt.bar(df_r['Crime Category'], df_r['Count'], color = '#cc1b1b')\n",
    "# plt.ylabel('Crime Count', size = 25, labelpad = 20)\n",
    "# plt.xlabel('Crime Category', size = 25, labelpad = 20)\n",
    "# plt.xticks(df_r['Crime Category'], fontsize = 15, rotation = 30)\n",
    "# plt.yticks(fontsize = 15)\n",
    "# plt.title('Crime counts of various categories', fontsize = 50)\n",
    "# plt.show()\n",
    "\n",
    "fig = px.bar(df_r, x='Crime Category Against', y='Count', hover_data=[\"Count\"], color = 'Crime Category Against', width = 800, height = 500)\n",
    "fig.update_layout(\n",
    "    title={\n",
    "        'text': 'Crime counts against various categories',\n",
    "        'y':0.93,\n",
    "        'x':0.46,\n",
    "        'xanchor': 'center',\n",
    "        'yanchor': 'top'})\n",
    "\n",
    "#Run fig.show('notebook') if you download the notebook\n",
    "#fig.show('notebook')\n",
    "\n",
    "#Use this if running on binder\n",
    "HTML(fig.to_html())"
   ]
  },
  {
   "cell_type": "markdown",
   "metadata": {},
   "source": [
    "The bar graph above displays the crimes committed against a category. The reason a bar graph is chosen is to categorize the data properly and increase the readability. Although this graph is interactive and can be scaled in to see the category \"NOT_A_CRIME\", since the data for this category is so less compared to the other categories, it becomes almost impossible to identify it through naked eye, which is a small flaw in this. We would attempt to improve this in the future.  "
   ]
  },
  {
   "cell_type": "code",
   "execution_count": null,
   "metadata": {
    "colab": {
     "base_uri": "https://localhost:8080/"
    },
    "id": "5oX2M6la64r1",
    "outputId": "b39736a7-b623-4391-b166-7a5e9bd2b7d3"
   },
   "outputs": [],
   "source": [
    "for i in df['longitude']:\n",
    "    if (float(i) < -123.3):\n",
    "        print (i)\n"
   ]
  },
  {
   "cell_type": "markdown",
   "metadata": {},
   "source": [
    "### Locating all the crimes committed in Seattle in 2022"
   ]
  },
  {
   "cell_type": "code",
   "execution_count": null,
   "metadata": {
    "colab": {
     "base_uri": "https://localhost:8080/",
     "height": 672
    },
    "id": "clrOk4Et64r2",
    "outputId": "c41cdd56-2bf5-45dd-87d6-3c88bb9b0493"
   },
   "outputs": [],
   "source": [
    "fig = plt.figure(figsize=(10,10))\n",
    "ax = plt.axes(projection=ccrs.PlateCarree())\n",
    "ax.gridlines(draw_labels = True)\n",
    "#The values used in set_extent are the coordinates of Seattle. \n",
    "ax.set_extent([-122.45167,-122.2244331, 47.49013,47.754145], ccrs.PlateCarree())\n",
    "plt.scatter(x = df['longitude'], y = df['latitude'], transform = ccrs.PlateCarree(), s = 0.2, color = 'r')\n",
    "ax.coastlines(resolution='10m')\n",
    "plt.show()\n"
   ]
  },
  {
   "cell_type": "markdown",
   "metadata": {},
   "source": [
    "This visualization is a zoomed in map of Seattle with the locations of all the crimes that were committed in 2022. It does not give any information and seems very cluttered, which makes the readability very difficult. There is no way to identify what is the crime where did it happen and it does not seem to serve any purpose. The intent was to check if the points are getting plotted on the map properly."
   ]
  },
  {
   "cell_type": "markdown",
   "metadata": {},
   "source": [
    "### Locating all the areas reporting robbery"
   ]
  },
  {
   "cell_type": "code",
   "execution_count": null,
   "metadata": {
    "colab": {
     "base_uri": "https://localhost:8080/",
     "height": 1000
    },
    "id": "_yQ58jBk64r2",
    "outputId": "a7bbcb7b-5824-4232-b5bc-b838fc027038"
   },
   "outputs": [],
   "source": [
    "df_rob = df[df['offense_parent_group'] == 'ROBBERY']\n",
    "df_rob\n",
    "\n",
    "df_r1 = df_rob.groupby(['mcpp']).agg({'mcpp': 'count'})\n",
    "df_r2 = df_r1.rename(columns={'mcpp':'Count'})\n",
    "df_r_final = df_r2.reset_index()\n",
    "\n",
    "df_r_final"
   ]
  },
  {
   "cell_type": "code",
   "execution_count": null,
   "metadata": {
    "colab": {
     "base_uri": "https://localhost:8080/",
     "height": 542
    },
    "id": "7wXS_fLm64r3",
    "outputId": "d633eb77-576b-461c-fdb0-c4841f81cd03"
   },
   "outputs": [],
   "source": [
    "#px.set_mapbox_access_token(open(\".mapbox_token\").read())\n",
    "#fig = px.scatter_mapbox(df_rob, lat = 'latitude', lon = 'longitude', color = 'sector')\n",
    "fig = px.scatter_geo(df_rob, 'latitude', 'longitude', color = 'mcpp', scope = 'north america', locationmode = 'ISO-3', title = 'Robberies in Seattle - 2022')\n",
    "fig.update_geos(\n",
    "    \n",
    "    lataxis_range=[47.49013,47.754145], lonaxis_range=[-122.45167,-122.2244331], lataxis_showgrid = True, lonaxis_showgrid = True, visible=False, resolution=50, scope=\"north america\",\n",
    "    showcountries=True, countrycolor=\"Black\",\n",
    "    showsubunits=True, subunitcolor=\"Blue\",\n",
    ")\n",
    "\n",
    "#Run fig.show('notebook') if you download the notebook\n",
    "#fig.show('notebook')\n",
    "\n",
    "#Use this if running on binder\n",
    "HTML(fig.to_html())"
   ]
  },
  {
   "cell_type": "markdown",
   "metadata": {},
   "source": [
    "This visualization drills down on just the offense group of Robbery in Seattle. This is an improvement of the previous visualization as the areas are grouped using the same color and it displays some information such as the area where the robbery took place and its exact coordinates. This is plotted on the scope of North-America. Initially it was plotted using the USA scope but the same coordinates did not work on the scope and it seemed difficult to adjust the coordinates on that ensuring the visiblity of Seattle when the code is run. "
   ]
  },
  {
   "cell_type": "markdown",
   "metadata": {},
   "source": [
    "### Displaying the most common crimes using a dropdown"
   ]
  },
  {
   "cell_type": "code",
   "execution_count": null,
   "metadata": {
    "colab": {
     "base_uri": "https://localhost:8080/",
     "height": 1000
    },
    "id": "-hPVP4hIBYaG",
    "outputId": "b3707803-d5d1-4c28-d450-c68f3d682a84"
   },
   "outputs": [],
   "source": [
    "df_larc = df[df['offense_parent_group'] == 'LARCENY-THEFT']\n",
    "df_larc\n",
    "\n",
    "df_assault = df[df['offense_parent_group'] == 'ASSAULT OFFENSES']\n",
    "df_assault\n",
    "\n",
    "df_burg = df[df['offense_parent_group'] == 'BURGLARY/BREAKING&ENTERING']\n",
    "df_burg\n",
    "\n",
    "df_vand = df[df['offense_parent_group'] == 'DESTRUCTION/DAMAGE/VANDALISM OF PROPERTY']\n",
    "df_vand\n",
    "\n",
    "df_mvt = df[df['offense_parent_group'] == 'MOTOR VEHICLE THEFT']\n",
    "df_mvt\n",
    "\n",
    "df_fraud = df[df['offense_parent_group'] == 'FRAUD OFFENSES']\n",
    "df_fraud\n",
    "\n",
    "df_tresp = df[df['offense_parent_group'] == 'TRESPASS OF REAL PROPERTY']\n",
    "df_tresp\n",
    "\n",
    "df_dui = df[df['offense_parent_group'] == 'DRIVING UNDER THE INFLUENCE']\n",
    "df_dui\n",
    "\n",
    "df_wep = df[df['offense_parent_group'] == 'WEAPON LAW VIOLATIONS']\n",
    "df_wep\n",
    "\n",
    "\n",
    "df_off = df.groupby(['offense_parent_group']).agg({'offense_parent_group': 'count'})\n",
    "df_r2 = df_off.rename(columns={'offense_parent_group':'Count'})\n",
    "df_r2 = df_r2.reset_index()\n",
    "\n",
    "df_sort = df_r2.sort_values('Count', ascending = False)\n",
    "df_sort"
   ]
  },
  {
   "cell_type": "code",
   "execution_count": null,
   "metadata": {
    "colab": {
     "base_uri": "https://localhost:8080/",
     "height": 542
    },
    "id": "-gNvtPqCRg0j",
    "outputId": "11ebbbfb-6422-49ae-cf07-a72e1fcd8898"
   },
   "outputs": [],
   "source": [
    "\n",
    "colors = cycle(plotly.colors.sequential.Inferno)\n",
    "\n",
    "fig = go.Figure()\n",
    "\n",
    "for s in df_rob.mcpp.unique():\n",
    "    df_r_1 = df_rob[df_rob.mcpp == s]\n",
    "    fig.add_trace(go.Scattergeo(lat = df_r_1['latitude'], lon = df_r_1['longitude'], marker_color = next(colors), marker_size = 5, customdata = df_r_1, name = s, hovertemplate=\"<b>Area: %{customdata[13]} </b><br><br>Longitude: %{customdata[15]: .3f} </b><br><br>Latitude: %{customdata[16]: .3f}<extra></extra>\" ))\n",
    "\n",
    "for s in df_larc.mcpp.unique():\n",
    "    df_larc_1 = df_larc[df_larc.mcpp == s]\n",
    "    fig.add_trace(go.Scattergeo(lat = df_larc_1['latitude'], lon = df_larc_1['longitude'], marker_color = next(colors), marker_size = 5, customdata = df_larc_1, name = s, hovertemplate=\"<b>Area: %{customdata[13]} </b><br><br>Longitude: %{customdata[15]: .3f} </b><br><br>Latitude: %{customdata[16]: .3f}<extra></extra>\" ))\n",
    "\n",
    "for s in df_assault.mcpp.unique():\n",
    "    df_as_1 = df_assault[df_assault.mcpp == s]\n",
    "    fig.add_trace(go.Scattergeo(lat = df_as_1['latitude'], lon = df_as_1['longitude'], marker_color = next(colors), marker_size = 5, customdata = df_as_1, name = s, hovertemplate=\"<b>Area: %{customdata[13]} </b><br><br>Longitude: %{customdata[15]: .3f} </b><br><br>Latitude: %{customdata[16]: .3f}<extra></extra>\" ))\n",
    "\n",
    "for s in df_burg.mcpp.unique():\n",
    "    df_burg_1 = df_burg[df_burg.mcpp == s]\n",
    "    fig.add_trace(go.Scattergeo(lat = df_burg_1['latitude'], lon = df_burg_1['longitude'], marker_color = next(colors), marker_size = 5, customdata = df_burg_1, name = s, hovertemplate=\"<b>Area: %{customdata[13]} </b><br><br>Longitude: %{customdata[15]: .3f} </b><br><br>Latitude: %{customdata[16]: .3f}<extra></extra>\" ))\n",
    "\n",
    "for s in df_vand.mcpp.unique():\n",
    "    df_vand_1 = df_vand[df_vand.mcpp == s]\n",
    "    fig.add_trace(go.Scattergeo(lat = df_vand_1['latitude'], lon = df_vand_1['longitude'], marker_color = next(colors), marker_size = 5, customdata = df_vand_1, name = s, hovertemplate=\"<b>Area: %{customdata[13]} </b><br><br>Longitude: %{customdata[15]: .3f} </b><br><br>Latitude: %{customdata[16]: .3f}<extra></extra>\" ))\n",
    "\n",
    "for s in df_mvt.mcpp.unique():\n",
    "    df_mvt_1 = df_mvt[df_mvt.mcpp == s]\n",
    "    fig.add_trace(go.Scattergeo(lat = df_mvt_1['latitude'], lon = df_mvt_1['longitude'], marker_color = next(colors), marker_size = 5, customdata = df_mvt_1, name = s, hovertemplate=\"<b>Area: %{customdata[13]} </b><br><br>Longitude: %{customdata[15]: .3f} </b><br><br>Latitude: %{customdata[16]: .3f}<extra></extra>\" ))\n",
    "\n",
    "# for s in df_rob.mcpp.unique():\n",
    "#     df_r_1 = df_rob[df_rob.mcpp == s]\n",
    "#     fig.add_trace(go.Scattergeo(lat = df_r_1['latitude'], lon = df_r_1['longitude'], marker_color = next(colors), customdata = df_r_1, name = s, hovertemplate=\"<b>Area: %{customdata[13]} </b><br><br>Longitude: %{customdata[15]: .3f} </b><br><br>Latitude: %{customdata[16]: .3f}<extra></extra>\" ))\n",
    "\n",
    "# for s in df_larc.mcpp.unique():\n",
    "#     df_larc_1 = df_larc[df_larc.mcpp == s]\n",
    "#     fig.add_trace(go.Scattergeo(lat = df_larc_1['latitude'], lon = df_larc_1['longitude'], marker_color = next(colors), customdata = df_larc_1, name = s, hovertemplate=\"<b>Area: %{customdata[13]} </b><br><br>Longitude: %{customdata[15]: .3f} </b><br><br>Latitude: %{customdata[16]: .3f}<extra></extra>\" ))\n",
    "\n",
    "    \n",
    "fig.update_geos(\n",
    "    \n",
    "    lataxis_range=[47.49013,47.754145], lonaxis_range=[-122.45167,-122.2244331], lataxis_showgrid = True, lonaxis_showgrid = True, visible=False, resolution=50, scope=\"north america\",\n",
    "    showcountries=True, countrycolor=\"Black\",\n",
    "    showsubunits=\n",
    "    True, subunitcolor=\"Blue\",\n",
    ")\n",
    "\n",
    "#Add dropdown\n",
    "fig.layout.update(\n",
    "   updatemenus = [\n",
    "       dict(\n",
    "         buttons = list(\n",
    "            [\n",
    "               dict(\n",
    "                  label = \"Robbery\", method = \"update\",\n",
    "                  args = [{\"visible\": [True, False, False, False, False, False]},{\"title\": \"Offense: Robbery | Year: 2022\"} ]\n",
    "               ),\n",
    "               dict(\n",
    "                  label = \"Larceny\", method = \"update\", \n",
    "                  args = [{\"visible\": [False, True, False, False, False, False]},{\"title\": \"Offense: Larceny | Year: 2022\"}]\n",
    "               ),\n",
    "               dict(\n",
    "                  label = \"Assault\", method = \"update\",\n",
    "                  args = [{\"visible\": [False, False, True, False, False, False ]},{\"title\": \"Offense: Assault | Year: 2022\"} ]\n",
    "               ),\n",
    "               dict(\n",
    "                  label = \"Burglary\", method = \"update\", \n",
    "                  args = [{\"visible\": [False, False, False, True, False, False]},{\"title\": \"Offense: Burglary | Year: 2022\"}]\n",
    "               ),\n",
    "               dict(\n",
    "                  label = \"Vandalism\", method = \"update\",\n",
    "                  args = [{\"visible\": [False, False, False, False, True, False]},{\"title\": \"Offense: Vandalism | Year: 2022\"} ]\n",
    "               ),\n",
    "               dict(\n",
    "                  label = \"MVT\", method = \"update\", \n",
    "                  args = [{\"visible\": [False, False, False, False, False, True]},{\"title\": \"Offense: MVT | Year: 2022\"}]\n",
    "               )\n",
    "# #                dict(\n",
    "# #                   label = \"Robbery\", method = \"update\",\n",
    "# #                   args = [{\"visible\": [True, False]},{\"title\": \"Robbery\"} ]\n",
    "# #                ),\n",
    "# #                dict(\n",
    "# #                   label = \"Larceny\", method = \"update\", \n",
    "# #                   args = [{\"visible\": [False, True]},{\"title\": \"Larceny\"}]\n",
    "#                )\n",
    "            ]\n",
    "         ),\n",
    "           direction=\"down\",\n",
    "            pad={\"r\": 10, \"t\": 10},\n",
    "            showactive=True,\n",
    "            x=0.1,\n",
    "            xanchor=\"left\",\n",
    "            y=1.1,\n",
    "            yanchor=\"top\" )\n",
    "      ] )\n",
    "\n",
    "#Run fig.show('notebook') if you download the notebook\n",
    "#fig.show('notebook')\n",
    "\n",
    "#Use this if running on binder\n",
    "HTML(fig.to_html())\n"
   ]
  },
  {
   "cell_type": "markdown",
   "metadata": {},
   "source": [
    "To improve the earlier visualization and to include all the other offenses within the same map, a dropdown feature is included which shows the coordinates and the areas. The problem with this is that it incorporates all the data on the map of all the offenses at once and only by clicking a dropdown first it changes the data to each category. We would try to improve this further. Another issue we encountered in this is that the sequential colors repeat after the color cycle is exhausted, grouping two or more areas with the same color. This seems to defeat the purpose of the groups. We need to figure out a way to make this better. "
   ]
  },
  {
   "cell_type": "code",
   "execution_count": null,
   "metadata": {
    "colab": {
     "base_uri": "https://localhost:8080/",
     "height": 857
    },
    "id": "GiR-73He64r4",
    "outputId": "5defecec-59bc-4efc-e4cf-611dcf558463"
   },
   "outputs": [],
   "source": [
    "df['report_datetime'] = pd.to_datetime(df['report_datetime'])\n",
    "df['hour'] = df['report_datetime'].dt.strftime('%H').astype(int)\n",
    "\n",
    "def timeofday(x):\n",
    "  if x > 2 and x <= 6:\n",
    "    return 'Early Morning'\n",
    "  elif x > 6 and x <= 10:\n",
    "    return 'Morning'\n",
    "  elif x > 10 and x <= 16:\n",
    "    return 'Afternoon'\n",
    "  elif x > 16 and x <= 20:\n",
    "    return 'Evening'\n",
    "  elif x > 20 and x <=2:\n",
    "    'Night'\n",
    "\n",
    "df['time_of_day'] = df['hour'].apply(timeofday)\n",
    "df"
   ]
  },
  {
   "cell_type": "code",
   "execution_count": null,
   "metadata": {
    "colab": {
     "base_uri": "https://localhost:8080/",
     "height": 237
    },
    "id": "-Q8xCRlhZGri",
    "outputId": "ee3e6051-0732-452a-985e-6d7993babd39"
   },
   "outputs": [],
   "source": [
    "time_of_day = pd.DataFrame(df.groupby(['time_of_day']).count().sort_values(by=['report_number'], ascending = True).reset_index())\n",
    "time_of_day"
   ]
  },
  {
   "cell_type": "code",
   "execution_count": null,
   "metadata": {
    "colab": {
     "base_uri": "https://localhost:8080/",
     "height": 517
    },
    "id": "QL-a2Z71bJYF",
    "outputId": "fdc6e1f8-8f65-4ee3-c0c5-bb5b2c416185"
   },
   "outputs": [],
   "source": [
    "fig = px.pie(time_of_day, values='report_number', names='time_of_day', title='Crime according to time of day', color_discrete_sequence=px.colors.sequential.RdBu, width = 800, height = 500)\n",
    "#Run fig.show('notebook') if you download the notebook\n",
    "#fig.show('notebook')\n",
    "\n",
    "#Use this if running on binder\n",
    "HTML(fig.to_html())"
   ]
  },
  {
   "cell_type": "markdown",
   "metadata": {},
   "source": [
    "The pie chart shows the number of crimes in percentages according to the time of the day. When you hover over the chart, you can see the time of the day and the number of reports for that particular group hovered."
   ]
  },
  {
   "cell_type": "code",
   "execution_count": null,
   "metadata": {
    "colab": {
     "base_uri": "https://localhost:8080/",
     "height": 542
    },
    "id": "V1ZRiwHQdZWN",
    "outputId": "c8814473-2601-4d9f-dc54-434952fca04b"
   },
   "outputs": [],
   "source": [
    "#Created a Tree Map based on the Parent Offense Group and Offence. It tells the the total cout when we hover over it. \n",
    "\n",
    "df1 = df.groupby(['offense_parent_group','offense']).count().reset_index()\n",
    "df1.rename(columns = {'offense_id':'count'}, inplace = True)\n",
    "df1\n",
    "\n",
    "\n",
    "fig = px.treemap(df1, path=[px.Constant(\"All crimes\"), 'offense_parent_group','offense'], values='count')\n",
    "fig.update_traces(root_color=\"lightgrey\")\n",
    "fig.update_layout(margin = dict(t=50, l=25, r=25, b=25))\n",
    "\n",
    "#Run fig.show('notebook') if you download the notebook\n",
    "#fig.show('notebook')\n",
    "\n",
    "#Use this if running on binder\n",
    "HTML(fig.to_html())"
   ]
  },
  {
   "cell_type": "markdown",
   "metadata": {},
   "source": [
    "Using the ployly library, we created a tree map that represents all the crimes grouped by the offence parent group and offence. We used the crime ID as total count of that particular offence. All the crimes are fist grouped by the parent group and in each parent groups, the offences are mentioned. It was a bit challenging to understand which variables needed to be taken to group and plot this visualization, in the end we chose the offense-parent-group as the parent in the path of our treemap and then the offense as a child."
   ]
  },
  {
   "cell_type": "code",
   "execution_count": null,
   "metadata": {
    "id": "xuTpkAXPuzdG"
   },
   "outputs": [],
   "source": [
    "df['date'] = df['report_datetime'].apply(pd.Timestamp)  # will handle parsing\n",
    "#df['B'] = df['B'].apply(pd.Timestamp)  # will handle parsing\n",
    "#df['day_diff'] = (df['A'] - df['B']).dt.days"
   ]
  },
  {
   "cell_type": "code",
   "execution_count": null,
   "metadata": {
    "colab": {
     "base_uri": "https://localhost:8080/",
     "height": 542
    },
    "id": "xqcIx6meXQeb",
    "outputId": "da69123e-49b2-4805-de75-9cfa9503ce49"
   },
   "outputs": [],
   "source": [
    "fig = px.histogram(data_frame = df, x = 'offense_parent_group')\n",
    "#Run fig.show('notebook') if you download the notebook\n",
    "#fig.show('notebook')\n",
    "\n",
    "#Use this if running on binder\n",
    "HTML(fig.to_html())"
   ]
  },
  {
   "cell_type": "markdown",
   "metadata": {
    "id": "ugJ__i9CkJgJ"
   },
   "source": [
    "We tried to plot a graph for the year 2022, based on the crime counts. We do not find this visualization to be very useful and would try to improve on this by making a histogram with more information."
   ]
  },
  {
   "cell_type": "code",
   "execution_count": null,
   "metadata": {
    "colab": {
     "base_uri": "https://localhost:8080/",
     "height": 444
    },
    "id": "YbSs_9pWkLmd",
    "outputId": "b3037d8a-8a27-459a-80e5-3b161f0cac0f"
   },
   "outputs": [],
   "source": [
    "df['report_datetime'] = pd.to_datetime(df['report_datetime'])\n",
    "df['report_date'] = df['report_datetime'].dt.strftime('%Y-%m-%d').astype(str)\n",
    "df.head()"
   ]
  },
  {
   "cell_type": "code",
   "execution_count": null,
   "metadata": {
    "colab": {
     "base_uri": "https://localhost:8080/",
     "height": 1000
    },
    "id": "HDl-n2p2kR1M",
    "outputId": "56ce03d1-d852-4336-d324-2aafb69f90ad"
   },
   "outputs": [],
   "source": [
    "fig = px.histogram(data_frame = df, color = 'offense_parent_group', x='mcpp', animation_frame='report_date',\n",
    "             barmode='overlay', marginal='box', height = 1200, width=1200)\n",
    "\n",
    "#Run fig.show('notebook') if you download the notebook\n",
    "#fig.show('notebook')\n",
    "\n",
    "#Use this if running on binder\n",
    "HTML(fig.to_html())"
   ]
  },
  {
   "cell_type": "markdown",
   "metadata": {},
   "source": [
    "This is a slight improvement of the previous graph. We plotted a histogram with the areas on the x axis and the bar height representing the number of the counts of each crime if different types of crimes were committed. We have a slider which represents the report date. So, we can slide the bar to observe the crime counts for each day in each area for different kinds of thefts. The only problem which we feel exist here is that the frame moves too with the slider. We would try to figure a way out to make the frame still and just animate the bar graphs. "
   ]
  },
  {
   "cell_type": "code",
   "execution_count": null,
   "metadata": {
    "id": "mPThSdir5H-M"
   },
   "outputs": [],
   "source": [
    "url2 = \"https://data.seattle.gov/resource/tazs-3rd5.json?$where=report_datetime between '2008-01-01T12:00:00' and '2022-12-31T14:00:00' &$limit=1500000\""
   ]
  },
  {
   "cell_type": "code",
   "execution_count": null,
   "metadata": {
    "colab": {
     "base_uri": "https://localhost:8080/"
    },
    "id": "T8WkS2JSH4r-",
    "outputId": "b43aabf3-c7e9-47a4-a796-40a74dac8567"
   },
   "outputs": [],
   "source": [
    "response2 = requests.get(url2).json()\n",
    "response2"
   ]
  },
  {
   "cell_type": "code",
   "execution_count": null,
   "metadata": {
    "colab": {
     "base_uri": "https://localhost:8080/",
     "height": 696
    },
    "id": "bTh0fp8afou5",
    "outputId": "4cb64177-e86c-451c-fd4a-9d902f587f98"
   },
   "outputs": [],
   "source": [
    "\n",
    "df2 = pd.DataFrame(response2)\n",
    "\n",
    "print(df2.shape[0])\n",
    "\n",
    "df2"
   ]
  },
  {
   "cell_type": "code",
   "execution_count": null,
   "metadata": {
    "colab": {
     "base_uri": "https://localhost:8080/"
    },
    "id": "KDdbJm9GhQ-T",
    "outputId": "878a32d3-c675-49f5-ec1b-00d12abb1c26"
   },
   "outputs": [],
   "source": [
    "df2[\"report_datetime\"] = pd.to_datetime(df2[\"report_datetime\"])\n",
    "df2['year'] = df2['report_datetime'].dt.strftime('%Y')\n",
    "#print(df2.head())\n",
    "print(df2.year)"
   ]
  },
  {
   "cell_type": "code",
   "execution_count": null,
   "metadata": {
    "colab": {
     "background_save": true,
     "base_uri": "https://localhost:8080/"
    },
    "id": "Pcwjf8NluEgI",
    "outputId": "9d5f8ab9-7a9e-4d26-9061-2879ceed9215"
   },
   "outputs": [],
   "source": [
    "fig = px.histogram(df2, x='year', color = 'mcpp', title = 'Number of Crimes from 2008 to 2022')\n",
    "\n",
    "#Run fig.show('notebook') if you download the notebook\n",
    "#fig.show('notebook')\n",
    "\n",
    "#Use this if running on binder\n",
    "HTML(fig.to_html())"
   ]
  },
  {
   "cell_type": "markdown",
   "metadata": {},
   "source": [
    "This represents a histogram ranging from 2008 to present of the total number of crimes each year. Initially we thought of just plotting a histogram of the counts, then we tried to make it more informative by also segregating the bars into the areas the crimes were committed, that way we would be able to figure out the number of crimes in each area every year and can make a comparision among all the years. Each bar has the same order of colors, meaning the same order of the areas, so by comparing the size changes of that color, one can figure out if the crimes in that area have been reduced the following years."
   ]
  },
  {
   "cell_type": "code",
   "execution_count": null,
   "metadata": {},
   "outputs": [],
   "source": []
  }
 ],
 "metadata": {
  "colab": {
   "provenance": []
  },
  "kernelspec": {
   "display_name": "Python 3 (ipykernel)",
   "language": "python",
   "name": "python3"
  },
  "language_info": {
   "codemirror_mode": {
    "name": "ipython",
    "version": 3
   },
   "file_extension": ".py",
   "mimetype": "text/x-python",
   "name": "python",
   "nbconvert_exporter": "python",
   "pygments_lexer": "ipython3",
   "version": "3.9.12"
  }
 },
 "nbformat": 4,
 "nbformat_minor": 1
}
